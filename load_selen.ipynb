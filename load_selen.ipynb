{
 "cells": [
  {
   "cell_type": "code",
   "execution_count": null,
   "metadata": {},
   "outputs": [],
   "source": [
    "import os\n",
    "from selenium import webdriver\n"
   ]
  },
  {
   "cell_type": "code",
   "execution_count": null,
   "metadata": {},
   "outputs": [],
   "source": [
    "\n",
    "# Inicializa el navegador\n",
    "driver = webdriver.Chrome()\n"
   ]
  },
  {
   "cell_type": "code",
   "execution_count": null,
   "metadata": {},
   "outputs": [],
   "source": [
    "\n",
    "# Navega a la página de carga de archivos\n",
    "driver.get(\"https://ejemplo.com/carga-de-archivos\")\n"
   ]
  },
  {
   "cell_type": "code",
   "execution_count": null,
   "metadata": {},
   "outputs": [],
   "source": [
    "\n",
    "# Obtiene la ruta completa de la carpeta exterior\n",
    "carpetaexterior_path = \"/ruta/completa/a/carpetaexterior\"\n",
    "\n"
   ]
  },
  {
   "cell_type": "code",
   "execution_count": null,
   "metadata": {},
   "outputs": [],
   "source": [
    "# Para cada carpeta interior en la carpeta exterior\n",
    "for carpeta in os.listdir(carpetaexterior_path):\n",
    "    \n",
    "    # Obtiene la ruta completa de la carpeta interior\n",
    "    carpeta_path = os.path.join(carpetaexterior_path, carpeta)\n",
    "    \n",
    "    # Para cada archivo en la carpeta interior\n",
    "    for archivo in os.listdir(carpeta_path):\n",
    "        \n",
    "        # Obtiene la ruta completa del archivo\n",
    "        archivo_path = os.path.join(carpeta_path, archivo)\n",
    "        \n",
    "        # Ejecuta código JavaScript para cargar el archivo\n",
    "        driver.execute_script(\"document.getElementById('boton-carga').style.display = 'block';\")\n",
    "        driver.execute_script(\"loadimage('{}');\".format(archivo_path))\n",
    "        \n",
    "        # Haz clic en el botón de carga de la interfaz web para enviar el archivo\n",
    "        submit_button = driver.find_element_by_xpath(\"//input[@type='submit']\")\n",
    "        submit_button.click()\n"
   ]
  },
  {
   "cell_type": "code",
   "execution_count": null,
   "metadata": {},
   "outputs": [],
   "source": [
    "\n",
    "# Cierra el navegador\n",
    "driver.quit()"
   ]
  }
 ],
 "metadata": {
  "language_info": {
   "name": "python"
  },
  "orig_nbformat": 4
 },
 "nbformat": 4,
 "nbformat_minor": 2
}
